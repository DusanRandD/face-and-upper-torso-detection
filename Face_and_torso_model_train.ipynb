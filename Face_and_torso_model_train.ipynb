{
 "cells": [
  {
   "cell_type": "code",
   "execution_count": null,
   "metadata": {
    "execution": {
     "iopub.execute_input": "2022-02-26T17:24:52.275037Z",
     "iopub.status.busy": "2022-02-26T17:24:52.274406Z",
     "iopub.status.idle": "2022-02-26T17:25:17.892378Z",
     "shell.execute_reply": "2022-02-26T17:25:17.891502Z",
     "shell.execute_reply.started": "2022-02-26T17:24:52.274947Z"
    }
   },
   "outputs": [],
   "source": [
    "# This code is part of the solution for face and upper torso recognition from image.\n",
    "# It is implemented on a Kaggle environment and the model is trained with a GPU processor.\n",
    "# In this code, the model is trained and tested.\n",
    "# Created by Dusan Radivojevic 26.02.2022."
   ]
  },
  {
   "cell_type": "code",
   "execution_count": 1,
   "metadata": {
    "execution": {
     "iopub.execute_input": "2022-02-26T17:24:52.275037Z",
     "iopub.status.busy": "2022-02-26T17:24:52.274406Z",
     "iopub.status.idle": "2022-02-26T17:25:17.892378Z",
     "shell.execute_reply": "2022-02-26T17:25:17.891502Z",
     "shell.execute_reply.started": "2022-02-26T17:24:52.274947Z"
    }
   },
   "outputs": [],
   "source": [
    "# installation of necessary modules with appropriate versions\n",
    "\n",
    "pip install pixellib==0.7.0"
   ]
  },
  {
   "cell_type": "code",
   "execution_count": 2,
   "metadata": {
    "execution": {
     "iopub.execute_input": "2022-02-26T17:25:19.541417Z",
     "iopub.status.busy": "2022-02-26T17:25:19.541156Z",
     "iopub.status.idle": "2022-02-26T17:25:30.961180Z",
     "shell.execute_reply": "2022-02-26T17:25:30.960305Z",
     "shell.execute_reply.started": "2022-02-26T17:25:19.541387Z"
    }
   },
   "outputs": [],
   "source": [
    "pip install scikit-image==0.15.0"
   ]
  },
  {
   "cell_type": "code",
   "execution_count": 3,
   "metadata": {
    "execution": {
     "iopub.execute_input": "2022-02-26T17:25:42.582980Z",
     "iopub.status.busy": "2022-02-26T17:25:42.582676Z",
     "iopub.status.idle": "2022-02-26T17:25:51.021098Z",
     "shell.execute_reply": "2022-02-26T17:25:51.020223Z",
     "shell.execute_reply.started": "2022-02-26T17:25:42.582942Z"
    }
   },
   "outputs": [],
   "source": [
    "pip install labelme2coco==0.1.2"
   ]
  },
  {
   "cell_type": "code",
   "execution_count": 4,
   "metadata": {
    "execution": {
     "iopub.execute_input": "2022-02-26T17:25:52.650404Z",
     "iopub.status.busy": "2022-02-26T17:25:52.650133Z",
     "iopub.status.idle": "2022-02-26T17:27:08.179291Z",
     "shell.execute_reply": "2022-02-26T17:27:08.178480Z",
     "shell.execute_reply.started": "2022-02-26T17:25:52.650372Z"
    }
   },
   "outputs": [],
   "source": [
    "pip install tensorflow==2.4.0"
   ]
  },
  {
   "cell_type": "code",
   "execution_count": 10,
   "metadata": {
    "execution": {
     "iopub.execute_input": "2022-02-26T17:28:56.469602Z",
     "iopub.status.busy": "2022-02-26T17:28:56.469318Z",
     "iopub.status.idle": "2022-02-26T17:29:07.451630Z",
     "shell.execute_reply": "2022-02-26T17:29:07.450802Z",
     "shell.execute_reply.started": "2022-02-26T17:28:56.469570Z"
    }
   },
   "outputs": [],
   "source": [
    "# get appropriate pretrained model\n",
    "\n",
    "!wget \"https://github.com/ayoolaolafenwa/PixelLib/releases/download/1.2/mask_rcnn_coco.h5\""
   ]
  },
  {
   "cell_type": "code",
   "execution_count": 11,
   "metadata": {
    "execution": {
     "iopub.execute_input": "2022-02-26T17:29:31.570218Z",
     "iopub.status.busy": "2022-02-26T17:29:31.569644Z",
     "iopub.status.idle": "2022-02-26T17:29:40.699217Z",
     "shell.execute_reply": "2022-02-26T17:29:40.698458Z",
     "shell.execute_reply.started": "2022-02-26T17:29:31.570175Z"
    }
   },
   "outputs": [],
   "source": [
    "# copy database to output directory that allows read and write\n",
    "\n",
    "from distutils.dir_util import copy_tree\n",
    "from_dir = \"../input/face-database\"\n",
    "to_dir = \"./\"\n",
    "copy_tree(from_dir,to_dir)"
   ]
  },
  {
   "cell_type": "code",
   "execution_count": 12,
   "metadata": {
    "execution": {
     "iopub.execute_input": "2022-02-26T17:29:43.598454Z",
     "iopub.status.busy": "2022-02-26T17:29:43.597833Z",
     "iopub.status.idle": "2022-02-26T17:29:50.029337Z",
     "shell.execute_reply": "2022-02-26T17:29:50.028457Z",
     "shell.execute_reply.started": "2022-02-26T17:29:43.598407Z"
    }
   },
   "outputs": [],
   "source": [
    "# Visualize a sample image before training\n",
    "\n",
    "import pixellib\n",
    "from pixellib.custom_train import instance_custom_training\n",
    "\n",
    "vis_img = instance_custom_training()\n",
    "vis_img.load_dataset(\"./Face_and_torso_database\")\n",
    "vis_img.visualize_sample()"
   ]
  },
  {
   "cell_type": "code",
   "execution_count": 13,
   "metadata": {
    "execution": {
     "iopub.execute_input": "2022-02-26T17:29:53.611582Z",
     "iopub.status.busy": "2022-02-26T17:29:53.611308Z",
     "iopub.status.idle": "2022-02-26T17:30:08.646425Z",
     "shell.execute_reply": "2022-02-26T17:30:08.645712Z",
     "shell.execute_reply.started": "2022-02-26T17:29:53.611550Z"
    }
   },
   "outputs": [],
   "source": [
    "# preparation of model for training\n",
    "\n",
    "train_maskrcnn = instance_custom_training()\n",
    "train_maskrcnn.modelConfig(network_backbone = \"resnet101\", num_classes= 2, batch_size = 2,gpu_count=1)\n",
    "train_maskrcnn.load_pretrained_model(\"./mask_rcnn_coco.h5\")\n",
    "train_maskrcnn.load_dataset(\"./Face_and_torso_database\")"
   ]
  },
  {
   "cell_type": "code",
   "execution_count": 14,
   "metadata": {
    "execution": {
     "iopub.execute_input": "2022-02-26T17:30:13.753173Z",
     "iopub.status.busy": "2022-02-26T17:30:13.752581Z",
     "iopub.status.idle": "2022-02-26T19:08:19.286322Z",
     "shell.execute_reply": "2022-02-26T19:08:19.284474Z",
     "shell.execute_reply.started": "2022-02-26T17:30:13.753132Z"
    }
   },
   "outputs": [],
   "source": [
    "# train model\n",
    "\n",
    "train_maskrcnn.train_model(num_epochs = 100, augmentation=True,  path_trained_models = \"mask_rcnn_models\",layers=\"all\")\n",
    "# output of the best epoch:\n",
    "# Epoch 69/100\n",
    "# 100/100 [==============================] - 60s 602ms/step - batch: 49.5000 - size: 2.0000 - loss: 0.2061 - rpn_class_loss: 0.0020 - rpn_bbox_loss: 0.0306 - mrcnn_class_loss: 0.0161 - mrcnn_bbox_loss: 0.0317 - mrcnn_mask_loss: 0.1257 - val_loss: 0.3219 - val_rpn_class_loss: 0.0074 - val_rpn_bbox_loss: 0.0594 - val_mrcnn_class_loss: 0.0215 - val_mrcnn_bbox_loss: 0.0729 - val_mrcnn_mask_loss: 0.1607"
   ]
  },
  {
   "cell_type": "code",
   "execution_count": 19,
   "metadata": {
    "execution": {
     "iopub.execute_input": "2022-02-26T19:19:12.459584Z",
     "iopub.status.busy": "2022-02-26T19:19:12.459024Z",
     "iopub.status.idle": "2022-02-26T19:19:32.781484Z",
     "shell.execute_reply": "2022-02-26T19:19:32.780813Z",
     "shell.execute_reply.started": "2022-02-26T19:19:12.459541Z"
    }
   },
   "outputs": [],
   "source": [
    "# visualization of model prediction on one test image\n",
    "\n",
    "from pixellib.instance import custom_segmentation\n",
    "from PIL import Image\n",
    "import matplotlib.pyplot as plt\n",
    "segment_image = custom_segmentation()\n",
    "segment_image.inferConfig(num_classes= 2, class_names= [\"BG\",\"face\",\"upper_torso\"], network_backbone = \"resnet101\", detection_threshold = 0.5, image_max_dim = 512, image_min_dim = 512)\n",
    "segment_image.load_model(\"./mask_rcnn_models/mask_rcnn_model.069-0.321938.h5\")\n",
    "im_path = '../input/face-database/Face_and_torso_database/test/Alex_Popov_0001.jpg'\n",
    "segment_image.segmentImage(im_path, show_bboxes=True, output_image_name=\"./Out_img.jpg\")\n",
    "im = Image.open(r\"./Out_img.jpg\")\n",
    "plt.imshow(im)"
   ]
  },
  {
   "cell_type": "code",
   "execution_count": 15,
   "metadata": {
    "execution": {
     "iopub.execute_input": "2022-02-26T19:11:31.300453Z",
     "iopub.status.busy": "2022-02-26T19:11:31.300158Z",
     "iopub.status.idle": "2022-02-26T19:12:08.218777Z",
     "shell.execute_reply": "2022-02-26T19:12:08.217808Z",
     "shell.execute_reply.started": "2022-02-26T19:11:31.300418Z"
    }
   },
   "outputs": [],
   "source": [
    "# evaluation of model prediction\n",
    "\n",
    "train_maskrcnn1 = instance_custom_training()\n",
    "train_maskrcnn1.modelConfig(network_backbone = \"resnet101\", num_classes= 2)\n",
    "train_maskrcnn1.load_dataset(\"./Face_and_torso_database\")\n",
    "train_maskrcnn1.evaluate_model(\"./mask_rcnn_models/mask_rcnn_model.069-0.321938.h5\",0.5)\n",
    "# output:\n",
    "#        Using resnet101 as network backbone For Mask R-CNN model\n",
    "#        ./mask_rcnn_models/mask_rcnn_model.069-0.321938.h5 evaluation using iou_threshold 0.5 is 0.824917 "
   ]
  },
  {
   "cell_type": "code",
   "execution_count": null,
   "metadata": {},
   "outputs": [],
   "source": []
  }
 ],
 "metadata": {
  "kernelspec": {
   "display_name": "Python 3",
   "language": "python",
   "name": "python3"
  },
  "language_info": {
   "codemirror_mode": {
    "name": "ipython",
    "version": 3
   },
   "file_extension": ".py",
   "mimetype": "text/x-python",
   "name": "python",
   "nbconvert_exporter": "python",
   "pygments_lexer": "ipython3",
   "version": "3.7.4"
  }
 },
 "nbformat": 4,
 "nbformat_minor": 4
}
